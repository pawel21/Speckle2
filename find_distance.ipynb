{
 "cells": [
  {
   "cell_type": "code",
   "execution_count": 6,
   "metadata": {
    "collapsed": false
   },
   "outputs": [
    {
     "name": "stdout",
     "output_type": "stream",
     "text": [
      "Object 1 center of mass at (63.131297069464665, 162.29226924977368)\n",
      "Object 2 center of mass at (137.23286066989598, 645.26683306109419)\n",
      "Object 3 center of mass at (324.67552633120886, 517.30600110593491)\n",
      "Distace between 1 and 2 = 488.6261055416136\n",
      "Distace between 1 and 3 = 440.95366385433084\n"
     ]
    }
   ],
   "source": [
    "%matplotlib qt5\n",
    "import numpy as np\n",
    "import matplotlib.pyplot as plt\n",
    "import mahotas as mh\n",
    "import os\n",
    "import fnmatch\n",
    "\n",
    "from scipy.ndimage import label\n",
    "from scipy.ndimage import center_of_mass\n",
    "from scipy.spatial import distance\n",
    "\n",
    "CCD_AREA = 0.08602 #cm^2\n",
    "IMG_PIXELS = 350208\n",
    "SIGMA = 10\n",
    "\n",
    "\n",
    "def create_plot(path):\n",
    "    \n",
    "    img = mh.imread(path)\n",
    "    fig, axes = plt.subplots(ncols=4, figsize=(10, 5.5))\n",
    "    threshold = mh.thresholding.otsu(img)\n",
    "\n",
    "    img_filt = mh.gaussian_filter(img, SIGMA)\n",
    "    labeled, nr_objects = label(img_filt > threshold)\n",
    "    T_filt = mh.thresholding.otsu(img_filt.astype('uint8'))\n",
    "    for k in range(1, nr_objects):\n",
    "        location = str(center_of_mass(img, labeled, k))\n",
    "        print(\"Object {} center of mass at {}\".format(k, location))\n",
    "        \n",
    "    speckle_pixel = np.sum(np.sum(img > threshold))\n",
    "    speckle_area = (speckle_pixel/IMG_PIXELS) * CCD_AREA\n",
    "\n",
    "    # find distance between spekle\n",
    "    distance_between_1_2 = distance.euclidean(center_of_mass(img, labeled, 1), center_of_mass(img, labeled, 2))\n",
    "    distance_between_1_3 = distance.euclidean(center_of_mass(img, labeled, 1), center_of_mass(img, labeled, 3))\n",
    "    print(\"Distace between 1 and 2 = {}\".format(distance_between_1_2))\n",
    "    print(\"Distace between 1 and 3 = {}\".format(distance_between_1_3))\n",
    "    axes[0].imshow(img, cmap=plt.cm.gray)\n",
    "    axes[0].set_title(\"orginal image\")\n",
    "    axes[1].imshow(img > T_filt, cmap=plt.cm.gray)\n",
    "    axes[1].set_title(\"Threshold = {0}\".format(threshold))\n",
    "    axes[2].imshow(img_filt, cmap=plt.cm.gray)\n",
    "    axes[2].set_title(\"Gauss filt, $\\sigma$ = {0}\".format(SIGMA))\n",
    "    \n",
    "    axes[3].imshow(img_filt > T_filt, cmap=plt.cm.gray)\n",
    "    \n",
    "    x_12 = []\n",
    "    y_12 = []\n",
    "    x_12.append(center_of_mass(img, labeled, 1)[0])\n",
    "    x_12.append(center_of_mass(img, labeled, 2)[0])\n",
    "    y_12.append(center_of_mass(img, labeled, 1)[1])\n",
    "    y_12.append(center_of_mass(img, labeled, 2)[1])\n",
    "    \n",
    "    x_13 = []\n",
    "    y_13 = []\n",
    "    x_13.append(center_of_mass(img, labeled, 1)[0])\n",
    "    x_13.append(center_of_mass(img, labeled, 3)[0])\n",
    "    y_13.append(center_of_mass(img, labeled, 1)[1])\n",
    "    y_13.append(center_of_mass(img, labeled, 3)[1])\n",
    "    \n",
    "    axes[3].plot(y_12, x_12, 'r-', lw=3)\n",
    "    axes[3].plot(y_13, x_13, 'r-', lw=3)\n",
    "    axes[3].set_title(\"numbers of speckle = {0} \\n $P = {1:.6f}  cm^2$\".format(nr_objects, speckle_area))\n",
    "    \n",
    "cwd = os.getcwd()\n",
    "create_plot(os.path.join(cwd, \"test\", '1T04633E.BMP'))"
   ]
  },
  {
   "cell_type": "code",
   "execution_count": 1,
   "metadata": {
    "collapsed": false
   },
   "outputs": [
    {
     "ename": "NameError",
     "evalue": "name 'image_path' is not defined",
     "output_type": "error",
     "traceback": [
      "\u001b[0;31m---------------------------------------------------------------------------\u001b[0m",
      "\u001b[0;31mNameError\u001b[0m                                 Traceback (most recent call last)",
      "\u001b[0;32m<ipython-input-1-910e1b7c8452>\u001b[0m in \u001b[0;36m<module>\u001b[0;34m()\u001b[0m\n\u001b[0;32m----> 1\u001b[0;31m \u001b[0mprint\u001b[0m\u001b[0;34m(\u001b[0m\u001b[0mimage_path\u001b[0m\u001b[0;34m)\u001b[0m\u001b[0;34m\u001b[0m\u001b[0m\n\u001b[0m",
      "\u001b[0;31mNameError\u001b[0m: name 'image_path' is not defined"
     ]
    }
   ],
   "source": []
  },
  {
   "cell_type": "code",
   "execution_count": null,
   "metadata": {
    "collapsed": true
   },
   "outputs": [],
   "source": []
  },
  {
   "cell_type": "code",
   "execution_count": null,
   "metadata": {
    "collapsed": true
   },
   "outputs": [],
   "source": []
  }
 ],
 "metadata": {
  "kernelspec": {
   "display_name": "Python 3",
   "language": "python",
   "name": "python3"
  },
  "language_info": {
   "codemirror_mode": {
    "name": "ipython",
    "version": 3
   },
   "file_extension": ".py",
   "mimetype": "text/x-python",
   "name": "python",
   "nbconvert_exporter": "python",
   "pygments_lexer": "ipython3",
   "version": "3.6.0"
  }
 },
 "nbformat": 4,
 "nbformat_minor": 2
}
